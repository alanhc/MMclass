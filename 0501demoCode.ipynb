{
 "cells": [
  {
   "cell_type": "code",
   "execution_count": 2,
   "metadata": {},
   "outputs": [],
   "source": [
    "import pandas as pd\n",
    "from sklearn.linear_model import LinearRegression\n",
    "import numpy as np\n",
    "from sklearn.model_selection import train_test_split\n",
    "import matplotlib.pyplot as plt\n",
    "\n"
   ]
  },
  {
   "cell_type": "code",
   "execution_count": 3,
   "metadata": {},
   "outputs": [
    {
     "name": "stdout",
     "output_type": "stream",
     "text": [
      "before:(742, 25)\n",
      "after:(489, 25)\n"
     ]
    }
   ],
   "source": [
    "#讀資料\n",
    "rawdataAll = pd.read_excel('data/hour30days.xlsx')\n",
    "#rawdataAll.head()\n",
    "preProcDataAll = rawdataAll.dropna(axis='rows', how='any')\n",
    "\n",
    "print(\"before:\" + str(rawdataAll.shape))\n",
    "print(\"after:\" + str(preProcDataAll.shape))\n"
   ]
  },
  {
   "cell_type": "code",
   "execution_count": 4,
   "metadata": {
    "scrolled": true
   },
   "outputs": [],
   "source": [
    "feature_names = preProcDataAll.columns\n",
    "df = preProcDataAll[feature_names]\n",
    "raw_feature = df[:-1]\n",
    "raw_target = df['松山區松山細懸浮微粒 PM 2.5  (μg/m 3 )'][1:]\n"
   ]
  },
  {
   "cell_type": "code",
   "execution_count": 5,
   "metadata": {},
   "outputs": [
    {
     "name": "stdout",
     "output_type": "stream",
     "text": [
      "(488,)\n",
      "(488, 25)\n"
     ]
    }
   ],
   "source": [
    "print(raw_target.shape)\n",
    "print(raw_feature.shape)\n"
   ]
  },
  {
   "cell_type": "code",
   "execution_count": 6,
   "metadata": {},
   "outputs": [],
   "source": [
    "X_train, X_test,Y_train, Y_test = train_test_split(\n",
    "    raw_feature, raw_target, test_size=0.25, random_state=5)"
   ]
  },
  {
   "cell_type": "code",
   "execution_count": 7,
   "metadata": {},
   "outputs": [
    {
     "name": "stdout",
     "output_type": "stream",
     "text": [
      "X_train:(366, 25)\n",
      "X_test:(122, 25)\n",
      "Y_train:(366,)\n",
      "Y_test:(122,)\n"
     ]
    }
   ],
   "source": [
    "print(\"X_train:\"+str(X_train.shape))\n",
    "print(\"X_test:\"+str(X_test.shape))\n",
    "print(\"Y_train:\"+str(Y_train.shape))\n",
    "print(\"Y_test:\"+str(Y_test.shape))"
   ]
  },
  {
   "cell_type": "code",
   "execution_count": 8,
   "metadata": {},
   "outputs": [],
   "source": [
    "feature = X_train\n",
    "target = Y_train\n"
   ]
  },
  {
   "cell_type": "code",
   "execution_count": 9,
   "metadata": {
    "scrolled": false
   },
   "outputs": [
    {
     "data": {
      "text/plain": [
       "LinearRegression(copy_X=True, fit_intercept=True, n_jobs=None,\n",
       "         normalize=False)"
      ]
     },
     "execution_count": 9,
     "metadata": {},
     "output_type": "execute_result"
    }
   ],
   "source": [
    "#建立模型\n",
    "lm = LinearRegression()\n",
    "X = feature\n",
    "Y = target\n",
    "lm.fit(X,Y)"
   ]
  },
  {
   "cell_type": "code",
   "execution_count": 10,
   "metadata": {},
   "outputs": [
    {
     "name": "stdout",
     "output_type": "stream",
     "text": [
      "coef is: [ 4.25140554e-01  6.31225525e-03 -8.18043724e-03  6.55338507e-02\n",
      " -5.72867224e-02  1.97381992e-03  1.10463450e-03  1.08967010e-01\n",
      " -1.76550015e-01  2.47959166e-03  9.71417987e-01  2.60340011e-02\n",
      "  3.11941658e-03  4.73423591e-03 -8.86350297e-01  1.32702697e-01\n",
      " -1.50628282e-01  1.37799813e-03  1.76028637e-03  4.57837364e-01\n",
      " -6.16736051e-01  1.12803948e-03  3.35095375e-04  9.26397420e-02\n",
      "  4.46372107e-02]\n",
      "intercept is: -0.17020979616347276\n",
      "21.34724399528972\n"
     ]
    }
   ],
   "source": [
    "#model 3\n",
    "lm3 = LinearRegression(normalize=True)\n",
    "X3 = feature\n",
    "Y3 = target\n",
    "lm3.fit(X3,Y3)\n",
    "print('coef is:',lm3.coef_)\n",
    "print('intercept is:',lm3.intercept_)\n",
    "#pd.DataFrame( list(zip(X.columns, lm3.coef_)) , columns = ['feature','estimatedCoefficients'])\n",
    "mse3 = np.mean( (Y_test - lm3.predict(X_test))**2 )\n",
    "print(mse3)"
   ]
  },
  {
   "cell_type": "code",
   "execution_count": 11,
   "metadata": {
    "scrolled": true
   },
   "outputs": [
    {
     "name": "stdout",
     "output_type": "stream",
     "text": [
      "coef is: [ 4.25140554e-01  6.31225525e-03 -8.18043724e-03  6.55338507e-02\n",
      " -5.72867224e-02  1.97381992e-03  1.10463450e-03  1.08967010e-01\n",
      " -1.76550015e-01  2.47959166e-03  9.71417987e-01  2.60340011e-02\n",
      "  3.11941658e-03  4.73423591e-03 -8.86350297e-01  1.32702697e-01\n",
      " -1.50628282e-01  1.37799813e-03  1.76028637e-03  4.57837364e-01\n",
      " -6.16736051e-01  1.12803948e-03  3.35095375e-04  9.26397420e-02\n",
      "  4.46372107e-02]\n",
      "intercept is: -0.1702097961634692\n"
     ]
    }
   ],
   "source": [
    "print('coef is:',lm.coef_)\n",
    "print('intercept is:',lm.intercept_)"
   ]
  },
  {
   "cell_type": "code",
   "execution_count": 12,
   "metadata": {},
   "outputs": [
    {
     "name": "stdout",
     "output_type": "stream",
     "text": [
      "21.347243995289745\n"
     ]
    }
   ],
   "source": [
    "mse = np.mean( (Y_test - lm.predict(X_test))**2 )\n",
    "print(mse)"
   ]
  },
  {
   "cell_type": "code",
   "execution_count": 13,
   "metadata": {
    "scrolled": false
   },
   "outputs": [
    {
     "data": {
      "text/html": [
       "<div>\n",
       "<style scoped>\n",
       "    .dataframe tbody tr th:only-of-type {\n",
       "        vertical-align: middle;\n",
       "    }\n",
       "\n",
       "    .dataframe tbody tr th {\n",
       "        vertical-align: top;\n",
       "    }\n",
       "\n",
       "    .dataframe thead th {\n",
       "        text-align: right;\n",
       "    }\n",
       "</style>\n",
       "<table border=\"1\" class=\"dataframe\">\n",
       "  <thead>\n",
       "    <tr style=\"text-align: right;\">\n",
       "      <th></th>\n",
       "      <th>feature</th>\n",
       "      <th>estimatedCoefficients</th>\n",
       "    </tr>\n",
       "  </thead>\n",
       "  <tbody>\n",
       "    <tr>\n",
       "      <th>0</th>\n",
       "      <td>中山區中山風速 WIND_SPEED (m/sec)</td>\n",
       "      <td>0.425141</td>\n",
       "    </tr>\n",
       "    <tr>\n",
       "      <th>1</th>\n",
       "      <td>中山區中山風向 WIND_DIREC (degrees)</td>\n",
       "      <td>0.006312</td>\n",
       "    </tr>\n",
       "    <tr>\n",
       "      <th>2</th>\n",
       "      <td>中山區中山溫度 AMB_TEMP (℃)</td>\n",
       "      <td>-0.008180</td>\n",
       "    </tr>\n",
       "    <tr>\n",
       "      <th>3</th>\n",
       "      <td>中山區中山細懸浮微粒 PM 2.5  (μg/m 3 )</td>\n",
       "      <td>0.065534</td>\n",
       "    </tr>\n",
       "    <tr>\n",
       "      <th>4</th>\n",
       "      <td>北投區陽明風速 WIND_SPEED (m/sec)</td>\n",
       "      <td>-0.057287</td>\n",
       "    </tr>\n",
       "    <tr>\n",
       "      <th>5</th>\n",
       "      <td>北投區陽明風向 WIND_DIREC (degrees)</td>\n",
       "      <td>0.001974</td>\n",
       "    </tr>\n",
       "    <tr>\n",
       "      <th>6</th>\n",
       "      <td>北投區陽明溫度 AMB_TEMP (℃)</td>\n",
       "      <td>0.001105</td>\n",
       "    </tr>\n",
       "    <tr>\n",
       "      <th>7</th>\n",
       "      <td>北投區陽明細懸浮微粒 PM 2.5  (μg/m 3 )</td>\n",
       "      <td>0.108967</td>\n",
       "    </tr>\n",
       "    <tr>\n",
       "      <th>8</th>\n",
       "      <td>北投區士林風速 WIND_SPEED (m/sec)</td>\n",
       "      <td>-0.176550</td>\n",
       "    </tr>\n",
       "    <tr>\n",
       "      <th>9</th>\n",
       "      <td>北投區士林風向 WIND_DIREC (degrees)</td>\n",
       "      <td>0.002480</td>\n",
       "    </tr>\n",
       "    <tr>\n",
       "      <th>10</th>\n",
       "      <td>北投區士林溫度 AMB_TEMP (℃)</td>\n",
       "      <td>0.971418</td>\n",
       "    </tr>\n",
       "    <tr>\n",
       "      <th>11</th>\n",
       "      <td>北投區士林細懸浮微粒 PM 2.5  (μg/m 3 )</td>\n",
       "      <td>0.026034</td>\n",
       "    </tr>\n",
       "    <tr>\n",
       "      <th>12</th>\n",
       "      <td>萬華區萬華風速 WIND_SPEED (m/sec)</td>\n",
       "      <td>0.003119</td>\n",
       "    </tr>\n",
       "    <tr>\n",
       "      <th>13</th>\n",
       "      <td>萬華區萬華風向 WIND_DIREC (degrees)</td>\n",
       "      <td>0.004734</td>\n",
       "    </tr>\n",
       "    <tr>\n",
       "      <th>14</th>\n",
       "      <td>萬華區萬華溫度 AMB_TEMP (℃)</td>\n",
       "      <td>-0.886350</td>\n",
       "    </tr>\n",
       "    <tr>\n",
       "      <th>15</th>\n",
       "      <td>萬華區萬華細懸浮微粒 PM 2.5  (μg/m 3 )</td>\n",
       "      <td>0.132703</td>\n",
       "    </tr>\n",
       "    <tr>\n",
       "      <th>16</th>\n",
       "      <td>松山區松山風速 WIND_SPEED (m/sec)</td>\n",
       "      <td>-0.150628</td>\n",
       "    </tr>\n",
       "    <tr>\n",
       "      <th>17</th>\n",
       "      <td>松山區松山風向 WIND_DIREC (degrees)</td>\n",
       "      <td>0.001378</td>\n",
       "    </tr>\n",
       "    <tr>\n",
       "      <th>18</th>\n",
       "      <td>松山區松山溫度 AMB_TEMP (℃)</td>\n",
       "      <td>0.001760</td>\n",
       "    </tr>\n",
       "    <tr>\n",
       "      <th>19</th>\n",
       "      <td>松山區松山細懸浮微粒 PM 2.5  (μg/m 3 )</td>\n",
       "      <td>0.457837</td>\n",
       "    </tr>\n",
       "    <tr>\n",
       "      <th>20</th>\n",
       "      <td>大安區古亭風速 WIND_SPEED (m/sec)</td>\n",
       "      <td>-0.616736</td>\n",
       "    </tr>\n",
       "    <tr>\n",
       "      <th>21</th>\n",
       "      <td>大安區古亭風向 WIND_DIREC (degrees)</td>\n",
       "      <td>0.001128</td>\n",
       "    </tr>\n",
       "    <tr>\n",
       "      <th>22</th>\n",
       "      <td>大安區古亭溫度 AMB_TEMP (℃)</td>\n",
       "      <td>0.000335</td>\n",
       "    </tr>\n",
       "    <tr>\n",
       "      <th>23</th>\n",
       "      <td>大安區古亭細懸浮微粒 PM 2.5  (μg/m 3 )</td>\n",
       "      <td>0.092640</td>\n",
       "    </tr>\n",
       "    <tr>\n",
       "      <th>24</th>\n",
       "      <td>大同區大同細懸浮微粒 PM 2.5  (μg/m 3 )</td>\n",
       "      <td>0.044637</td>\n",
       "    </tr>\n",
       "  </tbody>\n",
       "</table>\n",
       "</div>"
      ],
      "text/plain": [
       "                         feature  estimatedCoefficients\n",
       "0     中山區中山風速 WIND_SPEED (m/sec)               0.425141\n",
       "1   中山區中山風向 WIND_DIREC (degrees)               0.006312\n",
       "2           中山區中山溫度 AMB_TEMP (℃)              -0.008180\n",
       "3   中山區中山細懸浮微粒 PM 2.5  (μg/m 3 )               0.065534\n",
       "4     北投區陽明風速 WIND_SPEED (m/sec)              -0.057287\n",
       "5   北投區陽明風向 WIND_DIREC (degrees)               0.001974\n",
       "6           北投區陽明溫度 AMB_TEMP (℃)               0.001105\n",
       "7   北投區陽明細懸浮微粒 PM 2.5  (μg/m 3 )               0.108967\n",
       "8     北投區士林風速 WIND_SPEED (m/sec)              -0.176550\n",
       "9   北投區士林風向 WIND_DIREC (degrees)               0.002480\n",
       "10          北投區士林溫度 AMB_TEMP (℃)               0.971418\n",
       "11  北投區士林細懸浮微粒 PM 2.5  (μg/m 3 )               0.026034\n",
       "12    萬華區萬華風速 WIND_SPEED (m/sec)               0.003119\n",
       "13  萬華區萬華風向 WIND_DIREC (degrees)               0.004734\n",
       "14          萬華區萬華溫度 AMB_TEMP (℃)              -0.886350\n",
       "15  萬華區萬華細懸浮微粒 PM 2.5  (μg/m 3 )               0.132703\n",
       "16    松山區松山風速 WIND_SPEED (m/sec)              -0.150628\n",
       "17  松山區松山風向 WIND_DIREC (degrees)               0.001378\n",
       "18          松山區松山溫度 AMB_TEMP (℃)               0.001760\n",
       "19  松山區松山細懸浮微粒 PM 2.5  (μg/m 3 )               0.457837\n",
       "20    大安區古亭風速 WIND_SPEED (m/sec)              -0.616736\n",
       "21  大安區古亭風向 WIND_DIREC (degrees)               0.001128\n",
       "22          大安區古亭溫度 AMB_TEMP (℃)               0.000335\n",
       "23  大安區古亭細懸浮微粒 PM 2.5  (μg/m 3 )               0.092640\n",
       "24  大同區大同細懸浮微粒 PM 2.5  (μg/m 3 )               0.044637"
      ]
     },
     "execution_count": 13,
     "metadata": {},
     "output_type": "execute_result"
    }
   ],
   "source": [
    "#把每一項的係數打包成dataframe\n",
    "pd.DataFrame( list(zip(X.columns, lm.coef_)) , columns = ['feature','estimatedCoefficients'])"
   ]
  },
  {
   "cell_type": "code",
   "execution_count": 14,
   "metadata": {},
   "outputs": [
    {
     "data": {
      "text/plain": [
       "array([43.05041339, 10.27048245, 14.40385148,  7.59445058, 26.6581778 ])"
      ]
     },
     "execution_count": 14,
     "metadata": {},
     "output_type": "execute_result"
    }
   ],
   "source": [
    "lm.predict(X[:5])"
   ]
  },
  {
   "cell_type": "code",
   "execution_count": 15,
   "metadata": {},
   "outputs": [
    {
     "data": {
      "text/plain": [
       "array([18.64993851, 20.3658001 , 11.54188109, 50.40425352, 15.56355111])"
      ]
     },
     "execution_count": 15,
     "metadata": {},
     "output_type": "execute_result"
    }
   ],
   "source": [
    "lm.predict(X_test[:5])"
   ]
  },
  {
   "cell_type": "code",
   "execution_count": 16,
   "metadata": {},
   "outputs": [
    {
     "data": {
      "text/plain": [
       "0.8521525638301419"
      ]
     },
     "execution_count": 16,
     "metadata": {},
     "output_type": "execute_result"
    }
   ],
   "source": [
    "lm.score(X,Y)"
   ]
  },
  {
   "cell_type": "code",
   "execution_count": null,
   "metadata": {},
   "outputs": [],
   "source": [
    "\n"
   ]
  },
  {
   "cell_type": "code",
   "execution_count": null,
   "metadata": {},
   "outputs": [],
   "source": []
  },
  {
   "cell_type": "code",
   "execution_count": 17,
   "metadata": {},
   "outputs": [
    {
     "name": "stdout",
     "output_type": "stream",
     "text": [
      "index:33\n",
      "predict is:15\n",
      "Congratulations! You've fired the noticePM25 event\n"
     ]
    }
   ],
   "source": [
    "\n",
    "import requests\n",
    "import random\n",
    "\n",
    "rand = random.randrange(0, len(X_test), 1)\n",
    "print('index:'+str(rand))\n",
    "predictData = X_test.iloc[rand:rand+1] \n",
    "#print(predictData)\n",
    "answer = lm.predict(predictData)\n",
    "answer = int(answer) \n",
    "print('predict is:'+str(answer))\n",
    "answer = str(answer)\n",
    "path='https://maker.ifttt.com/trigger/noticePM25/with/key/{your_key}'\n",
    "body={\n",
    "    'value1':' 松山區 ',\n",
    "    'value2':answer,\n",
    "    'value3':''\n",
    "}\n",
    "r = requests.post(path, data =body)\n",
    "print(r.text)"
   ]
  },
  {
   "cell_type": "code",
   "execution_count": 18,
   "metadata": {},
   "outputs": [
    {
     "name": "stdout",
     "output_type": "stream",
     "text": [
      "before:(742, 25)\n",
      "after:(742, 25)\n",
      "X_train:(555, 25)\n",
      "X_test:(186, 25)\n",
      "Y_train:(555,)\n",
      "Y_test:(186,)\n",
      "intercept is: -0.1702097961634692\n",
      "mse2 is:22.762265960179864\n"
     ]
    }
   ],
   "source": [
    "# fill 0\n",
    "preProcDataAll_fill0 = rawdataAll.fillna(0)\n",
    "print(\"before:\" + str(rawdataAll.shape))\n",
    "print(\"after:\" + str(preProcDataAll_fill0.shape))\n",
    "#fill 0\n",
    "feature_names = preProcDataAll_fill0.columns\n",
    "df2 = preProcDataAll_fill0[feature_names]\n",
    "raw_feature2 = df2[:-1]\n",
    "raw_target2 = df2['松山區松山細懸浮微粒 PM 2.5  (μg/m 3 )'][1:]\n",
    "#fill 0\n",
    "X2_train, X2_test,Y2_train, Y2_test = train_test_split(\n",
    "    raw_feature2, raw_target2, test_size=0.25, random_state=5)\n",
    "\n",
    "print(\"X_train:\"+str(X2_train.shape))\n",
    "print(\"X_test:\"+str(X2_test.shape))\n",
    "print(\"Y_train:\"+str(Y2_train.shape))\n",
    "print(\"Y_test:\"+str(Y2_test.shape))\n",
    "# fill 0\n",
    "feature2 = X2_train\n",
    "target2 = Y2_train\n",
    "#target.head()\n",
    "#feature.head()\n",
    "lm2 = LinearRegression()\n",
    "X2 = feature2\n",
    "Y2 = target2\n",
    "lm2.fit(X2,Y2)\n",
    "print('intercept is:',lm.intercept_)\n",
    "pd.DataFrame( list(zip(X2.columns, lm2.coef_)) , columns = ['feature','estimatedCoefficients'])\n",
    "mse2 = np.mean( (Y2_test - lm2.predict(X2_test))**2 )\n",
    "print('mse2 is:'+str(mse2))\n"
   ]
  },
  {
   "cell_type": "code",
   "execution_count": null,
   "metadata": {},
   "outputs": [],
   "source": []
  },
  {
   "cell_type": "code",
   "execution_count": 25,
   "metadata": {},
   "outputs": [
    {
     "name": "stdout",
     "output_type": "stream",
     "text": [
      "(122,)\n"
     ]
    },
    {
     "data": {
      "image/png": "[encoded data removed]",
      "text/plain": [
       "<Figure size 432x288 with 1 Axes>"
      ]
     },
     "metadata": {
      "needs_background": "light"
     },
     "output_type": "display_data"
    }
   ],
   "source": [
    "# 實際vs預測\n",
    "print(Y_test.shape)\n",
    "plt.scatter(Y_test, lm.predict(X_test), c='b')\n",
    "plt.xlabel('Songshan PM2.5:')\n",
    "plt.ylabel('predicted Songshan PM2.5')\n",
    "plt.plot([Y_test.min(), Y_test.max()], [Y_test.min(), Y_test.max()], 'r')\n",
    "plt.title('Songshan PM2.5 vs predicted Songshan PM2.5:\\n in Model1(drop NaN)')\n",
    "plt.show()"
   ]
  },
  {
   "cell_type": "code",
   "execution_count": 26,
   "metadata": {},
   "outputs": [
    {
     "name": "stdout",
     "output_type": "stream",
     "text": [
      "(186,)\n"
     ]
    },
    {
     "data": {
      "image/png": "[encoded data removed]",
      "text/plain": [
       "<Figure size 432x288 with 1 Axes>"
      ]
     },
     "metadata": {
      "needs_background": "light"
     },
     "output_type": "display_data"
    }
   ],
   "source": [
    "print(Y2_test.shape)\n",
    "plt.scatter(Y2_test, lm2.predict(X2_test), c='r')\n",
    "plt.xlabel('Songshan PM2.5:')\n",
    "plt.ylabel('predicted Songshan PM2.5')\n",
    "plt.plot([Y_test.min(), Y_test.max()], [Y_test.min(), Y_test.max()], 'b')\n",
    "plt.title('Songshan PM2.5 vs predicted Songshan PM2.5:\\n in Model2(fill 0)')\n",
    "plt.show()"
   ]
  },
  {
   "cell_type": "code",
   "execution_count": 338,
   "metadata": {},
   "outputs": [
    {
     "data": {
      "image/png": "[encoded data removed]",
      "text/plain": [
       "<Figure size 432x288 with 1 Axes>"
      ]
     },
     "metadata": {
      "needs_background": "light"
     },
     "output_type": "display_data"
    }
   ],
   "source": [
    "#原始資料vs實際\n",
    "plt.scatter(range(len(Y2_test)), Y2_test, c='k', alpha=0.5)\n",
    "plt.xlabel('dataset')\n",
    "plt.ylabel('PM2.5 value')\n",
    "plt.title('Songshan PM2.5 vs predicted Songshan PM2.5:\\n in Model2(fill 0)')\n",
    "plt.show()"
   ]
  },
  {
   "cell_type": "code",
   "execution_count": 340,
   "metadata": {},
   "outputs": [
    {
     "data": {
      "image/png": "[encoded data removed]",
      "text/plain": [
       "<Figure size 432x288 with 1 Axes>"
      ]
     },
     "metadata": {
      "needs_background": "light"
     },
     "output_type": "display_data"
    }
   ],
   "source": [
    "plt.scatter(range(len(Y_test)), Y_test, c='k', alpha=0.5)\n",
    "plt.scatter(range(len(Y_test)), lm.predict(X_test), c='b', alpha=0.5)\n",
    "plt.xlabel('dataset')\n",
    "plt.ylabel('PM2.5 value')\n",
    "plt.title('Songshan PM2.5 vs predicted Songshan PM2.5:\\n in Model2(fill 0)')\n",
    "plt.show()"
   ]
  }
 ],
 "metadata": {
  "kernelspec": {
   "display_name": "Python 3",
   "language": "python",
   "name": "python3"
  },
  "language_info": {
   "codemirror_mode": {
    "name": "ipython",
    "version": 3
   },
   "file_extension": ".py",
   "mimetype": "text/x-python",
   "name": "python",
   "nbconvert_exporter": "python",
   "pygments_lexer": "ipython3",
   "version": "3.7.1"
  }
 },
 "nbformat": 4,
 "nbformat_minor": 2
}
