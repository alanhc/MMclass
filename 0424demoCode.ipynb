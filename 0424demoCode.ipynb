{
 "cells": [
  {
   "cell_type": "code",
   "execution_count": 3,
   "metadata": {},
   "outputs": [],
   "source": [
    "import pandas as pd\n",
    "from sklearn.linear_model import LinearRegression\n",
    "import numpy as np\n",
    "from sklearn.model_selection import train_test_split\n",
    "import matplotlib.pyplot as plt\n",
    "\n"
   ]
  },
  {
   "cell_type": "code",
   "execution_count": 4,
   "metadata": {},
   "outputs": [
    {
     "name": "stdout",
     "output_type": "stream",
     "text": [
      "before:(742, 25)\n",
      "after:(489, 25)\n"
     ]
    }
   ],
   "source": [
    "rawdataAll = pd.read_excel('data/hour30days.xlsx')\n",
    "#rawdataAll.head()\n",
    "preProcDataAll = rawdataAll.dropna(axis='rows', how='any') \n",
    "print(\"before:\" + str(rawdataAll.shape))\n",
    "print(\"after:\" + str(preProcDataAll.shape))"
   ]
  },
  {
   "cell_type": "code",
   "execution_count": null,
   "metadata": {},
   "outputs": [],
   "source": []
  },
  {
   "cell_type": "code",
   "execution_count": 5,
   "metadata": {
    "scrolled": true
   },
   "outputs": [],
   "source": [
    "feature_names = preProcDataAll.columns\n",
    "df = preProcDataAll[feature_names]\n",
    "raw_feature = df[:-1]\n",
    "raw_target = df['松山區松山細懸浮微粒 PM 2.5  (μg/m 3 )'][1:]\n"
   ]
  },
  {
   "cell_type": "code",
   "execution_count": 6,
   "metadata": {},
   "outputs": [
    {
     "name": "stdout",
     "output_type": "stream",
     "text": [
      "(488,)\n",
      "(488, 25)\n"
     ]
    }
   ],
   "source": [
    "print(raw_target.shape)\n",
    "print(raw_feature.shape)\n"
   ]
  },
  {
   "cell_type": "code",
   "execution_count": 7,
   "metadata": {},
   "outputs": [],
   "source": [
    "X_train, X_test,Y_train, Y_test = train_test_split(\n",
    "    raw_feature, raw_target, test_size=0.25, random_state=5)"
   ]
  },
  {
   "cell_type": "code",
   "execution_count": 8,
   "metadata": {},
   "outputs": [
    {
     "name": "stdout",
     "output_type": "stream",
     "text": [
      "X_train:(366, 25)\n",
      "X_test:(122, 25)\n",
      "Y_train:(366,)\n",
      "Y_test:(122,)\n"
     ]
    }
   ],
   "source": [
    "print(\"X_train:\"+str(X_train.shape))\n",
    "print(\"X_test:\"+str(X_test.shape))\n",
    "print(\"Y_train:\"+str(Y_train.shape))\n",
    "print(\"Y_test:\"+str(Y_test.shape))"
   ]
  },
  {
   "cell_type": "code",
   "execution_count": 9,
   "metadata": {},
   "outputs": [
    {
     "data": {
      "text/html": [
       "<div>\n",
       "<style scoped>\n",
       "    .dataframe tbody tr th:only-of-type {\n",
       "        vertical-align: middle;\n",
       "    }\n",
       "\n",
       "    .dataframe tbody tr th {\n",
       "        vertical-align: top;\n",
       "    }\n",
       "\n",
       "    .dataframe thead th {\n",
       "        text-align: right;\n",
       "    }\n",
       "</style>\n",
       "<table border=\"1\" class=\"dataframe\">\n",
       "  <thead>\n",
       "    <tr style=\"text-align: right;\">\n",
       "      <th></th>\n",
       "      <th>中山區中山風速 WIND_SPEED (m/sec)</th>\n",
       "      <th>中山區中山風向 WIND_DIREC (degrees)</th>\n",
       "      <th>中山區中山溫度 AMB_TEMP (℃)</th>\n",
       "      <th>中山區中山細懸浮微粒 PM 2.5  (μg/m 3 )</th>\n",
       "      <th>北投區陽明風速 WIND_SPEED (m/sec)</th>\n",
       "      <th>北投區陽明風向 WIND_DIREC (degrees)</th>\n",
       "      <th>北投區陽明溫度 AMB_TEMP (℃)</th>\n",
       "      <th>北投區陽明細懸浮微粒 PM 2.5  (μg/m 3 )</th>\n",
       "      <th>北投區士林風速 WIND_SPEED (m/sec)</th>\n",
       "      <th>北投區士林風向 WIND_DIREC (degrees)</th>\n",
       "      <th>...</th>\n",
       "      <th>萬華區萬華細懸浮微粒 PM 2.5  (μg/m 3 )</th>\n",
       "      <th>松山區松山風速 WIND_SPEED (m/sec)</th>\n",
       "      <th>松山區松山風向 WIND_DIREC (degrees)</th>\n",
       "      <th>松山區松山溫度 AMB_TEMP (℃)</th>\n",
       "      <th>松山區松山細懸浮微粒 PM 2.5  (μg/m 3 )</th>\n",
       "      <th>大安區古亭風速 WIND_SPEED (m/sec)</th>\n",
       "      <th>大安區古亭風向 WIND_DIREC (degrees)</th>\n",
       "      <th>大安區古亭溫度 AMB_TEMP (℃)</th>\n",
       "      <th>大安區古亭細懸浮微粒 PM 2.5  (μg/m 3 )</th>\n",
       "      <th>大同區大同細懸浮微粒 PM 2.5  (μg/m 3 )</th>\n",
       "    </tr>\n",
       "  </thead>\n",
       "  <tbody>\n",
       "    <tr>\n",
       "      <th>483</th>\n",
       "      <td>0.9</td>\n",
       "      <td>268.0</td>\n",
       "      <td>24.1</td>\n",
       "      <td>36.0</td>\n",
       "      <td>4.1</td>\n",
       "      <td>160.0</td>\n",
       "      <td>18.4</td>\n",
       "      <td>21.0</td>\n",
       "      <td>1.7</td>\n",
       "      <td>283.0</td>\n",
       "      <td>...</td>\n",
       "      <td>44.0</td>\n",
       "      <td>1.5</td>\n",
       "      <td>23.8</td>\n",
       "      <td>209.0</td>\n",
       "      <td>47.0</td>\n",
       "      <td>1.6</td>\n",
       "      <td>184.0</td>\n",
       "      <td>23.7</td>\n",
       "      <td>50.0</td>\n",
       "      <td>29.0</td>\n",
       "    </tr>\n",
       "    <tr>\n",
       "      <th>63</th>\n",
       "      <td>1.9</td>\n",
       "      <td>183.0</td>\n",
       "      <td>17.6</td>\n",
       "      <td>7.0</td>\n",
       "      <td>1.1</td>\n",
       "      <td>170.0</td>\n",
       "      <td>11.7</td>\n",
       "      <td>2.0</td>\n",
       "      <td>1.6</td>\n",
       "      <td>100.0</td>\n",
       "      <td>...</td>\n",
       "      <td>6.0</td>\n",
       "      <td>1.9</td>\n",
       "      <td>203.0</td>\n",
       "      <td>17.7</td>\n",
       "      <td>9.0</td>\n",
       "      <td>1.1</td>\n",
       "      <td>186.0</td>\n",
       "      <td>18.0</td>\n",
       "      <td>10.0</td>\n",
       "      <td>7.0</td>\n",
       "    </tr>\n",
       "    <tr>\n",
       "      <th>376</th>\n",
       "      <td>3.1</td>\n",
       "      <td>117.0</td>\n",
       "      <td>19.5</td>\n",
       "      <td>17.0</td>\n",
       "      <td>4.3</td>\n",
       "      <td>160.0</td>\n",
       "      <td>10.1</td>\n",
       "      <td>14.0</td>\n",
       "      <td>3.0</td>\n",
       "      <td>85.0</td>\n",
       "      <td>...</td>\n",
       "      <td>10.0</td>\n",
       "      <td>2.4</td>\n",
       "      <td>53.0</td>\n",
       "      <td>18.9</td>\n",
       "      <td>14.0</td>\n",
       "      <td>3.2</td>\n",
       "      <td>19.6</td>\n",
       "      <td>82.0</td>\n",
       "      <td>23.0</td>\n",
       "      <td>17.0</td>\n",
       "    </tr>\n",
       "    <tr>\n",
       "      <th>527</th>\n",
       "      <td>2.0</td>\n",
       "      <td>87.0</td>\n",
       "      <td>18.0</td>\n",
       "      <td>3.0</td>\n",
       "      <td>3.8</td>\n",
       "      <td>110.0</td>\n",
       "      <td>11.1</td>\n",
       "      <td>1.0</td>\n",
       "      <td>2.9</td>\n",
       "      <td>50.0</td>\n",
       "      <td>...</td>\n",
       "      <td>7.0</td>\n",
       "      <td>2.1</td>\n",
       "      <td>16.9</td>\n",
       "      <td>34.0</td>\n",
       "      <td>9.0</td>\n",
       "      <td>2.5</td>\n",
       "      <td>80.0</td>\n",
       "      <td>18.0</td>\n",
       "      <td>7.0</td>\n",
       "      <td>9.0</td>\n",
       "    </tr>\n",
       "    <tr>\n",
       "      <th>499</th>\n",
       "      <td>1.6</td>\n",
       "      <td>96.0</td>\n",
       "      <td>25.9</td>\n",
       "      <td>23.0</td>\n",
       "      <td>2.0</td>\n",
       "      <td>40.0</td>\n",
       "      <td>19.0</td>\n",
       "      <td>12.0</td>\n",
       "      <td>2.7</td>\n",
       "      <td>285.0</td>\n",
       "      <td>...</td>\n",
       "      <td>27.0</td>\n",
       "      <td>1.8</td>\n",
       "      <td>24.8</td>\n",
       "      <td>41.0</td>\n",
       "      <td>28.0</td>\n",
       "      <td>1.8</td>\n",
       "      <td>56.0</td>\n",
       "      <td>26.3</td>\n",
       "      <td>29.0</td>\n",
       "      <td>29.0</td>\n",
       "    </tr>\n",
       "  </tbody>\n",
       "</table>\n",
       "<p>5 rows × 25 columns</p>\n",
       "</div>"
      ],
      "text/plain": [
       "     中山區中山風速 WIND_SPEED (m/sec)  中山區中山風向 WIND_DIREC (degrees)  \\\n",
       "483                         0.9                         268.0   \n",
       "63                          1.9                         183.0   \n",
       "376                         3.1                         117.0   \n",
       "527                         2.0                          87.0   \n",
       "499                         1.6                          96.0   \n",
       "\n",
       "     中山區中山溫度 AMB_TEMP (℃)  中山區中山細懸浮微粒 PM 2.5  (μg/m 3 )  \\\n",
       "483                  24.1                          36.0   \n",
       "63                   17.6                           7.0   \n",
       "376                  19.5                          17.0   \n",
       "527                  18.0                           3.0   \n",
       "499                  25.9                          23.0   \n",
       "\n",
       "     北投區陽明風速 WIND_SPEED (m/sec)  北投區陽明風向 WIND_DIREC (degrees)  \\\n",
       "483                         4.1                         160.0   \n",
       "63                          1.1                         170.0   \n",
       "376                         4.3                         160.0   \n",
       "527                         3.8                         110.0   \n",
       "499                         2.0                          40.0   \n",
       "\n",
       "     北投區陽明溫度 AMB_TEMP (℃)  北投區陽明細懸浮微粒 PM 2.5  (μg/m 3 )  \\\n",
       "483                  18.4                          21.0   \n",
       "63                   11.7                           2.0   \n",
       "376                  10.1                          14.0   \n",
       "527                  11.1                           1.0   \n",
       "499                  19.0                          12.0   \n",
       "\n",
       "     北投區士林風速 WIND_SPEED (m/sec)  北投區士林風向 WIND_DIREC (degrees)  \\\n",
       "483                         1.7                         283.0   \n",
       "63                          1.6                         100.0   \n",
       "376                         3.0                          85.0   \n",
       "527                         2.9                          50.0   \n",
       "499                         2.7                         285.0   \n",
       "\n",
       "                 ...               萬華區萬華細懸浮微粒 PM 2.5  (μg/m 3 )  \\\n",
       "483              ...                                       44.0   \n",
       "63               ...                                        6.0   \n",
       "376              ...                                       10.0   \n",
       "527              ...                                        7.0   \n",
       "499              ...                                       27.0   \n",
       "\n",
       "     松山區松山風速 WIND_SPEED (m/sec)  松山區松山風向 WIND_DIREC (degrees)  \\\n",
       "483                         1.5                          23.8   \n",
       "63                          1.9                         203.0   \n",
       "376                         2.4                          53.0   \n",
       "527                         2.1                          16.9   \n",
       "499                         1.8                          24.8   \n",
       "\n",
       "     松山區松山溫度 AMB_TEMP (℃)  松山區松山細懸浮微粒 PM 2.5  (μg/m 3 )  \\\n",
       "483                 209.0                          47.0   \n",
       "63                   17.7                           9.0   \n",
       "376                  18.9                          14.0   \n",
       "527                  34.0                           9.0   \n",
       "499                  41.0                          28.0   \n",
       "\n",
       "     大安區古亭風速 WIND_SPEED (m/sec)  大安區古亭風向 WIND_DIREC (degrees)  \\\n",
       "483                         1.6                         184.0   \n",
       "63                          1.1                         186.0   \n",
       "376                         3.2                          19.6   \n",
       "527                         2.5                          80.0   \n",
       "499                         1.8                          56.0   \n",
       "\n",
       "     大安區古亭溫度 AMB_TEMP (℃)  大安區古亭細懸浮微粒 PM 2.5  (μg/m 3 )  \\\n",
       "483                  23.7                          50.0   \n",
       "63                   18.0                          10.0   \n",
       "376                  82.0                          23.0   \n",
       "527                  18.0                           7.0   \n",
       "499                  26.3                          29.0   \n",
       "\n",
       "     大同區大同細懸浮微粒 PM 2.5  (μg/m 3 )  \n",
       "483                          29.0  \n",
       "63                            7.0  \n",
       "376                          17.0  \n",
       "527                           9.0  \n",
       "499                          29.0  \n",
       "\n",
       "[5 rows x 25 columns]"
      ]
     },
     "execution_count": 9,
     "metadata": {},
     "output_type": "execute_result"
    }
   ],
   "source": [
    "feature = X_train\n",
    "target = Y_train\n",
    "feature.head()"
   ]
  },
  {
   "cell_type": "code",
   "execution_count": 10,
   "metadata": {
    "scrolled": true
   },
   "outputs": [
    {
     "data": {
      "text/plain": [
       "LinearRegression(copy_X=True, fit_intercept=True, n_jobs=None,\n",
       "         normalize=False)"
      ]
     },
     "execution_count": 10,
     "metadata": {},
     "output_type": "execute_result"
    }
   ],
   "source": [
    "#target.head()\n",
    "#feature.head()\n",
    "lm = LinearRegression()\n",
    "X = feature\n",
    "Y = target\n",
    "lm.fit(X,Y)"
   ]
  },
  {
   "cell_type": "code",
   "execution_count": 11,
   "metadata": {
    "scrolled": true
   },
   "outputs": [
    {
     "name": "stdout",
     "output_type": "stream",
     "text": [
      "coef is: [ 4.25140554e-01  6.31225525e-03 -8.18043724e-03  6.55338507e-02\n",
      " -5.72867224e-02  1.97381992e-03  1.10463450e-03  1.08967010e-01\n",
      " -1.76550015e-01  2.47959166e-03  9.71417987e-01  2.60340011e-02\n",
      "  3.11941658e-03  4.73423591e-03 -8.86350297e-01  1.32702697e-01\n",
      " -1.50628282e-01  1.37799813e-03  1.76028637e-03  4.57837364e-01\n",
      " -6.16736051e-01  1.12803948e-03  3.35095375e-04  9.26397420e-02\n",
      "  4.46372107e-02]\n",
      "intercept is: -0.1702097961634692\n"
     ]
    }
   ],
   "source": [
    "print('coef is:',lm.coef_)\n",
    "print('intercept is:',lm.intercept_)"
   ]
  },
  {
   "cell_type": "code",
   "execution_count": 12,
   "metadata": {},
   "outputs": [
    {
     "data": {
      "text/html": [
       "<div>\n",
       "<style scoped>\n",
       "    .dataframe tbody tr th:only-of-type {\n",
       "        vertical-align: middle;\n",
       "    }\n",
       "\n",
       "    .dataframe tbody tr th {\n",
       "        vertical-align: top;\n",
       "    }\n",
       "\n",
       "    .dataframe thead th {\n",
       "        text-align: right;\n",
       "    }\n",
       "</style>\n",
       "<table border=\"1\" class=\"dataframe\">\n",
       "  <thead>\n",
       "    <tr style=\"text-align: right;\">\n",
       "      <th></th>\n",
       "      <th>feature</th>\n",
       "      <th>estimatedCoefficients</th>\n",
       "    </tr>\n",
       "  </thead>\n",
       "  <tbody>\n",
       "    <tr>\n",
       "      <th>0</th>\n",
       "      <td>中山區中山風速 WIND_SPEED (m/sec)</td>\n",
       "      <td>0.425141</td>\n",
       "    </tr>\n",
       "    <tr>\n",
       "      <th>1</th>\n",
       "      <td>中山區中山風向 WIND_DIREC (degrees)</td>\n",
       "      <td>0.006312</td>\n",
       "    </tr>\n",
       "    <tr>\n",
       "      <th>2</th>\n",
       "      <td>中山區中山溫度 AMB_TEMP (℃)</td>\n",
       "      <td>-0.008180</td>\n",
       "    </tr>\n",
       "    <tr>\n",
       "      <th>3</th>\n",
       "      <td>中山區中山細懸浮微粒 PM 2.5  (μg/m 3 )</td>\n",
       "      <td>0.065534</td>\n",
       "    </tr>\n",
       "    <tr>\n",
       "      <th>4</th>\n",
       "      <td>北投區陽明風速 WIND_SPEED (m/sec)</td>\n",
       "      <td>-0.057287</td>\n",
       "    </tr>\n",
       "    <tr>\n",
       "      <th>5</th>\n",
       "      <td>北投區陽明風向 WIND_DIREC (degrees)</td>\n",
       "      <td>0.001974</td>\n",
       "    </tr>\n",
       "    <tr>\n",
       "      <th>6</th>\n",
       "      <td>北投區陽明溫度 AMB_TEMP (℃)</td>\n",
       "      <td>0.001105</td>\n",
       "    </tr>\n",
       "    <tr>\n",
       "      <th>7</th>\n",
       "      <td>北投區陽明細懸浮微粒 PM 2.5  (μg/m 3 )</td>\n",
       "      <td>0.108967</td>\n",
       "    </tr>\n",
       "    <tr>\n",
       "      <th>8</th>\n",
       "      <td>北投區士林風速 WIND_SPEED (m/sec)</td>\n",
       "      <td>-0.176550</td>\n",
       "    </tr>\n",
       "    <tr>\n",
       "      <th>9</th>\n",
       "      <td>北投區士林風向 WIND_DIREC (degrees)</td>\n",
       "      <td>0.002480</td>\n",
       "    </tr>\n",
       "    <tr>\n",
       "      <th>10</th>\n",
       "      <td>北投區士林溫度 AMB_TEMP (℃)</td>\n",
       "      <td>0.971418</td>\n",
       "    </tr>\n",
       "    <tr>\n",
       "      <th>11</th>\n",
       "      <td>北投區士林細懸浮微粒 PM 2.5  (μg/m 3 )</td>\n",
       "      <td>0.026034</td>\n",
       "    </tr>\n",
       "    <tr>\n",
       "      <th>12</th>\n",
       "      <td>萬華區萬華風速 WIND_SPEED (m/sec)</td>\n",
       "      <td>0.003119</td>\n",
       "    </tr>\n",
       "    <tr>\n",
       "      <th>13</th>\n",
       "      <td>萬華區萬華風向 WIND_DIREC (degrees)</td>\n",
       "      <td>0.004734</td>\n",
       "    </tr>\n",
       "    <tr>\n",
       "      <th>14</th>\n",
       "      <td>萬華區萬華溫度 AMB_TEMP (℃)</td>\n",
       "      <td>-0.886350</td>\n",
       "    </tr>\n",
       "    <tr>\n",
       "      <th>15</th>\n",
       "      <td>萬華區萬華細懸浮微粒 PM 2.5  (μg/m 3 )</td>\n",
       "      <td>0.132703</td>\n",
       "    </tr>\n",
       "    <tr>\n",
       "      <th>16</th>\n",
       "      <td>松山區松山風速 WIND_SPEED (m/sec)</td>\n",
       "      <td>-0.150628</td>\n",
       "    </tr>\n",
       "    <tr>\n",
       "      <th>17</th>\n",
       "      <td>松山區松山風向 WIND_DIREC (degrees)</td>\n",
       "      <td>0.001378</td>\n",
       "    </tr>\n",
       "    <tr>\n",
       "      <th>18</th>\n",
       "      <td>松山區松山溫度 AMB_TEMP (℃)</td>\n",
       "      <td>0.001760</td>\n",
       "    </tr>\n",
       "    <tr>\n",
       "      <th>19</th>\n",
       "      <td>松山區松山細懸浮微粒 PM 2.5  (μg/m 3 )</td>\n",
       "      <td>0.457837</td>\n",
       "    </tr>\n",
       "    <tr>\n",
       "      <th>20</th>\n",
       "      <td>大安區古亭風速 WIND_SPEED (m/sec)</td>\n",
       "      <td>-0.616736</td>\n",
       "    </tr>\n",
       "    <tr>\n",
       "      <th>21</th>\n",
       "      <td>大安區古亭風向 WIND_DIREC (degrees)</td>\n",
       "      <td>0.001128</td>\n",
       "    </tr>\n",
       "    <tr>\n",
       "      <th>22</th>\n",
       "      <td>大安區古亭溫度 AMB_TEMP (℃)</td>\n",
       "      <td>0.000335</td>\n",
       "    </tr>\n",
       "    <tr>\n",
       "      <th>23</th>\n",
       "      <td>大安區古亭細懸浮微粒 PM 2.5  (μg/m 3 )</td>\n",
       "      <td>0.092640</td>\n",
       "    </tr>\n",
       "    <tr>\n",
       "      <th>24</th>\n",
       "      <td>大同區大同細懸浮微粒 PM 2.5  (μg/m 3 )</td>\n",
       "      <td>0.044637</td>\n",
       "    </tr>\n",
       "  </tbody>\n",
       "</table>\n",
       "</div>"
      ],
      "text/plain": [
       "                         feature  estimatedCoefficients\n",
       "0     中山區中山風速 WIND_SPEED (m/sec)               0.425141\n",
       "1   中山區中山風向 WIND_DIREC (degrees)               0.006312\n",
       "2           中山區中山溫度 AMB_TEMP (℃)              -0.008180\n",
       "3   中山區中山細懸浮微粒 PM 2.5  (μg/m 3 )               0.065534\n",
       "4     北投區陽明風速 WIND_SPEED (m/sec)              -0.057287\n",
       "5   北投區陽明風向 WIND_DIREC (degrees)               0.001974\n",
       "6           北投區陽明溫度 AMB_TEMP (℃)               0.001105\n",
       "7   北投區陽明細懸浮微粒 PM 2.5  (μg/m 3 )               0.108967\n",
       "8     北投區士林風速 WIND_SPEED (m/sec)              -0.176550\n",
       "9   北投區士林風向 WIND_DIREC (degrees)               0.002480\n",
       "10          北投區士林溫度 AMB_TEMP (℃)               0.971418\n",
       "11  北投區士林細懸浮微粒 PM 2.5  (μg/m 3 )               0.026034\n",
       "12    萬華區萬華風速 WIND_SPEED (m/sec)               0.003119\n",
       "13  萬華區萬華風向 WIND_DIREC (degrees)               0.004734\n",
       "14          萬華區萬華溫度 AMB_TEMP (℃)              -0.886350\n",
       "15  萬華區萬華細懸浮微粒 PM 2.5  (μg/m 3 )               0.132703\n",
       "16    松山區松山風速 WIND_SPEED (m/sec)              -0.150628\n",
       "17  松山區松山風向 WIND_DIREC (degrees)               0.001378\n",
       "18          松山區松山溫度 AMB_TEMP (℃)               0.001760\n",
       "19  松山區松山細懸浮微粒 PM 2.5  (μg/m 3 )               0.457837\n",
       "20    大安區古亭風速 WIND_SPEED (m/sec)              -0.616736\n",
       "21  大安區古亭風向 WIND_DIREC (degrees)               0.001128\n",
       "22          大安區古亭溫度 AMB_TEMP (℃)               0.000335\n",
       "23  大安區古亭細懸浮微粒 PM 2.5  (μg/m 3 )               0.092640\n",
       "24  大同區大同細懸浮微粒 PM 2.5  (μg/m 3 )               0.044637"
      ]
     },
     "execution_count": 12,
     "metadata": {},
     "output_type": "execute_result"
    }
   ],
   "source": [
    "pd.DataFrame( list(zip(X.columns, lm.coef_)) , columns = ['feature','estimatedCoefficients'])"
   ]
  },
  {
   "cell_type": "code",
   "execution_count": 13,
   "metadata": {},
   "outputs": [
    {
     "data": {
      "text/plain": [
       "array([43.05041339, 10.27048245, 14.40385148,  7.59445058, 26.6581778 ])"
      ]
     },
     "execution_count": 13,
     "metadata": {},
     "output_type": "execute_result"
    }
   ],
   "source": [
    "lm.predict(X[:5])"
   ]
  },
  {
   "cell_type": "code",
   "execution_count": 14,
   "metadata": {},
   "outputs": [
    {
     "name": "stdout",
     "output_type": "stream",
     "text": [
      "21.347243995289745\n"
     ]
    }
   ],
   "source": [
    "mse = np. mean( (Y_test - lm.predict(X_test))**2 )\n",
    "print(mse) "
   ]
  },
  {
   "cell_type": "code",
   "execution_count": 15,
   "metadata": {},
   "outputs": [
    {
     "data": {
      "text/plain": [
       "array([18.64993851, 20.3658001 , 11.54188109, 50.40425352, 15.56355111])"
      ]
     },
     "execution_count": 15,
     "metadata": {},
     "output_type": "execute_result"
    }
   ],
   "source": [
    "lm.predict(X_test[:5])"
   ]
  },
  {
   "cell_type": "code",
   "execution_count": 16,
   "metadata": {},
   "outputs": [
    {
     "data": {
      "text/plain": [
       "0.8656450559392016"
      ]
     },
     "execution_count": 16,
     "metadata": {},
     "output_type": "execute_result"
    }
   ],
   "source": [
    "lm.score(X_test,Y_test)"
   ]
  },
  {
   "cell_type": "code",
   "execution_count": 17,
   "metadata": {},
   "outputs": [
    {
     "name": "stdout",
     "output_type": "stream",
     "text": [
      "Congratulations! You've fired the noticePM25 event\n"
     ]
    }
   ],
   "source": [
    "import requests\n",
    "path='https://maker.ifttt.com/trigger/noticePM25/with/key/{your_key}'\n",
    "body={\n",
    "    'value1':' 松山區 ',\n",
    "    'value2':' testing ',\n",
    "    'value3':''\n",
    "}\n",
    "r = requests.post(path, data =body)\n",
    "print(r.text)"
   ]
  },
  {
   "cell_type": "code",
   "execution_count": 18,
   "metadata": {},
   "outputs": [
    {
     "data": {
      "image/png": "[encoded data removed]",
      "text/plain": [
       "<Figure size 432x288 with 1 Axes>"
      ]
     },
     "metadata": {
      "needs_background": "light"
     },
     "output_type": "display_data"
    }
   ],
   "source": [
    "plt.scatter(Y_test, lm.predict(X_test))\n",
    "plt.show()"
   ]
  },
  {
   "cell_type": "code",
   "execution_count": null,
   "metadata": {},
   "outputs": [],
   "source": []
  }
 ],
 "metadata": {
  "kernelspec": {
   "display_name": "Python 3",
   "language": "python",
   "name": "python3"
  },
  "language_info": {
   "codemirror_mode": {
    "name": "ipython",
    "version": 3
   },
   "file_extension": ".py",
   "mimetype": "text/x-python",
   "name": "python",
   "nbconvert_exporter": "python",
   "pygments_lexer": "ipython3",
   "version": "3.7.4"
  }
 },
 "nbformat": 4,
 "nbformat_minor": 2
}
