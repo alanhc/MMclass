{
 "cells": [
  {
   "cell_type": "code",
   "execution_count": 1,
   "metadata": {},
   "outputs": [],
   "source": [
    "import pandas as pd\n",
    "from sklearn.linear_model import LinearRegression\n",
    "import numpy as np\n",
    "from sklearn.model_selection import train_test_split\n",
    "from sklearn.model_selection import cross_val_predict\n",
    "from sklearn.model_selection import learning_curve\n",
    "from sklearn.preprocessing import StandardScaler\n",
    "from sklearn.model_selection import cross_val_score\n",
    "\n",
    "\n",
    "import matplotlib.pyplot as plt\n",
    "\n"
   ]
  },
  {
   "cell_type": "code",
   "execution_count": null,
   "metadata": {},
   "outputs": [],
   "source": []
  },
  {
   "cell_type": "code",
   "execution_count": 2,
   "metadata": {},
   "outputs": [
    {
     "name": "stdout",
     "output_type": "stream",
     "text": [
      "before:(742, 25)\n",
      "after:(489, 25)\n",
      "X_train:(366, 25)\n",
      "X_test:(122, 25)\n",
      "Y_train:(366,)\n",
      "Y_test:(122,)\n",
      "lm1 coef is: [ 4.25140554e-01  6.31225525e-03 -8.18043724e-03  6.55338507e-02\n",
      " -5.72867224e-02  1.97381992e-03  1.10463450e-03  1.08967010e-01\n",
      " -1.76550015e-01  2.47959166e-03  9.71417987e-01  2.60340011e-02\n",
      "  3.11941658e-03  4.73423591e-03 -8.86350297e-01  1.32702697e-01\n",
      " -1.50628282e-01  1.37799813e-03  1.76028637e-03  4.57837364e-01\n",
      " -6.16736051e-01  1.12803948e-03  3.35095375e-04  9.26397420e-02\n",
      "  4.46372107e-02]\n",
      "lm1 intercept is: -0.17020979616347276\n",
      "mse is 21.34724399528972\n",
      "final score: 0.8521525638301419\n"
     ]
    }
   ],
   "source": [
    "#drop\n",
    "rawdataAll = pd.read_excel('data/hour30days.xlsx')\n",
    "#rawdataAll.head()\n",
    "preProcDataAll = rawdataAll.dropna(axis='rows', how='any')\n",
    "\n",
    "print(\"before:\" + str(rawdataAll.shape))\n",
    "print(\"after:\" + str(preProcDataAll.shape))\n",
    "feature_names = preProcDataAll.columns\n",
    "df = preProcDataAll[feature_names]\n",
    "raw_feature = df[:-1]\n",
    "raw_target = df['松山區松山細懸浮微粒 PM 2.5  (μg/m 3 )'][1:]\n",
    "#print(raw_target.shape)\n",
    "#print(raw_feature.shape)\n",
    "\n",
    "X_train, X_test,Y_train, Y_test = train_test_split(\n",
    "    raw_feature, raw_target, test_size=0.25, random_state=5)\n",
    "print(\"X_train:\"+str(X_train.shape))\n",
    "print(\"X_test:\"+str(X_test.shape))\n",
    "print(\"Y_train:\"+str(Y_train.shape))\n",
    "print(\"Y_test:\"+str(Y_test.shape))\n",
    "\n",
    "\n",
    "\n",
    "feature = X_train\n",
    "target = Y_train\n",
    "\n",
    "#target.head()\n",
    "#feature.head()\n",
    "lm = LinearRegression(normalize=True)\n",
    "\n",
    "X = feature\n",
    "Y = target\n",
    "lm.fit(X,Y)\n",
    "\n",
    "print('lm1 coef is:',lm.coef_)\n",
    "print('lm1 intercept is:',lm.intercept_)\n",
    "pd.DataFrame( list(zip(X.columns, lm.coef_)) , columns = ['feature','estimatedCoefficients'])\n",
    "mse = np.mean( (Y_test - lm.predict(X_test))**2 )\n",
    "print('mse is '+str(mse))\n",
    "print('final score: '+str(lm.score(X,Y)))\n",
    "\n"
   ]
  },
  {
   "cell_type": "code",
   "execution_count": null,
   "metadata": {},
   "outputs": [],
   "source": []
  },
  {
   "cell_type": "code",
   "execution_count": 3,
   "metadata": {},
   "outputs": [
    {
     "name": "stdout",
     "output_type": "stream",
     "text": [
      "before:(742, 25)\n",
      "after:(742, 25)\n",
      "X_train:(555, 25)\n",
      "X_test:(186, 25)\n",
      "Y_train:(555,)\n",
      "Y_test:(186,)\n",
      "intercept is: -0.17020979616347276\n",
      "lm2 mse is:22.762265960179803\n",
      "final score: 0.8343891595301158\n"
     ]
    }
   ],
   "source": [
    "# fill 0\n",
    "preProcDataAll_fill0 = rawdataAll.fillna(0)\n",
    "print(\"before:\" + str(rawdataAll.shape))\n",
    "print(\"after:\" + str(preProcDataAll_fill0.shape))\n",
    "\n",
    "feature_names = preProcDataAll_fill0.columns\n",
    "df2 = preProcDataAll_fill0[feature_names]\n",
    "raw_feature2 = df2[:-1]\n",
    "raw_target2 = df2['松山區松山細懸浮微粒 PM 2.5  (μg/m 3 )'][1:]\n",
    "\n",
    "X2_train, X2_test,Y2_train, Y2_test = train_test_split(\n",
    "    raw_feature2, raw_target2, test_size=0.25, random_state=5)\n",
    "\n",
    "print(\"X_train:\"+str(X2_train.shape))\n",
    "print(\"X_test:\"+str(X2_test.shape))\n",
    "print(\"Y_train:\"+str(Y2_train.shape))\n",
    "print(\"Y_test:\"+str(Y2_test.shape))\n",
    "\n",
    "feature2 = X2_train\n",
    "target2 = Y2_train\n",
    "\n",
    "\n",
    "\n",
    "lm2 = LinearRegression(normalize=True)\n",
    "X2 = feature2\n",
    "Y2 = target2\n",
    "lm2.fit(X2,Y2)\n",
    "print('intercept is:',lm.intercept_)\n",
    "pd.DataFrame( list(zip(X2.columns, lm2.coef_)) , columns = ['feature','estimatedCoefficients'])\n",
    "mse2 = np.mean( (Y2_test - lm2.predict(X2_test))**2 )\n",
    "print('lm2 mse is:'+str(mse2))\n",
    "print('final score: '+str(lm2.score(X,Y)))"
   ]
  },
  {
   "cell_type": "code",
   "execution_count": 4,
   "metadata": {},
   "outputs": [
    {
     "name": "stdout",
     "output_type": "stream",
     "text": [
      "before:(742, 25)\n",
      "after:(742, 25)\n",
      "X_train:(555, 25)\n",
      "X_test:(186, 25)\n",
      "Y_train:(555,)\n",
      "Y_test:(186,)\n",
      "(555, 25)\n",
      "intercept is: -0.17020979616347276\n",
      "lm2 mse is:22.762265960179803\n",
      "final score: 0.8343891595301158\n"
     ]
    }
   ],
   "source": [
    "#with normalize & standardlize\n",
    "# fill 0\n",
    "preProcDataAll_fill0 = rawdataAll.fillna(0)\n",
    "print(\"before:\" + str(rawdataAll.shape))\n",
    "print(\"after:\" + str(preProcDataAll_fill0.shape))\n",
    "\n",
    "feature_names = preProcDataAll_fill0.columns\n",
    "df2 = preProcDataAll_fill0[feature_names]\n",
    "raw_feature2 = df2[:-1]\n",
    "raw_target2 = df2['松山區松山細懸浮微粒 PM 2.5  (μg/m 3 )'][1:]\n",
    "\n",
    "X2_train, X2_test,Y2_train, Y2_test = train_test_split(\n",
    "    raw_feature2, raw_target2, test_size=0.25, random_state=5)\n",
    "\n",
    "print(\"X_train:\"+str(X2_train.shape))\n",
    "print(\"X_test:\"+str(X2_test.shape))\n",
    "print(\"Y_train:\"+str(Y2_train.shape))\n",
    "print(\"Y_test:\"+str(Y2_test.shape))\n",
    "\n",
    "feature2 = X2_train\n",
    "target2 = Y2_train\n",
    "\n",
    "#Standardlisze\n",
    "scaler = StandardScaler()\n",
    "scaler.fit(feature2)\n",
    "sfeature =  scaler.transform(feature2)\n",
    "print(sfeature.shape)\n",
    "\n",
    "lm2 = LinearRegression(normalize=True)\n",
    "X2 = feature2\n",
    "Y2 = target2\n",
    "lm2.fit(X2,Y2)\n",
    "print('intercept is:',lm.intercept_)\n",
    "pd.DataFrame( list(zip(X2.columns, lm2.coef_)) , columns = ['feature','estimatedCoefficients'])\n",
    "mse2 = np.mean( (Y2_test - lm2.predict(X2_test))**2 )\n",
    "print('lm2 mse is:'+str(mse2))\n",
    "print('final score: '+str(lm2.score(X,Y)))\n"
   ]
  },
  {
   "cell_type": "code",
   "execution_count": null,
   "metadata": {},
   "outputs": [],
   "source": []
  },
  {
   "cell_type": "code",
   "execution_count": null,
   "metadata": {},
   "outputs": [],
   "source": []
  },
  {
   "cell_type": "code",
   "execution_count": 11,
   "metadata": {},
   "outputs": [
    {
     "name": "stdout",
     "output_type": "stream",
     "text": [
      "index:16\n",
      "predict is:2\n",
      "Congratulations! You've fired the noticePM25 event\n"
     ]
    }
   ],
   "source": [
    "#notification\n",
    "import requests\n",
    "import random\n",
    "\n",
    "rand = random.randrange(0, len(X_test), 1)\n",
    "print('index:'+str(rand))\n",
    "predictData = X_test.iloc[rand:rand+1] \n",
    "#print(predictData)\n",
    "answer = lm.predict(predictData)\n",
    "answer = int(answer) \n",
    "print('predict is:'+str(answer))\n",
    "\n",
    "message=''\n",
    "if 0<=answer and answer<50: message = '空氣品質良好喔~'\n",
    "elif 51<=answer and answer<100: message = '空氣品質普通，極敏感族群請留意可能產生的咳嗽及呼吸急促症狀~'\n",
    "elif 101<=answer and answer<150: message = '空氣品質對敏感族群不健康，應減少戶外活動、孩童及老年人建議戴口罩~'\n",
    "elif 151<=answer and answer<200: message = '空氣品質對所有人不健康，盡量少出門、戶外活動應增加休息時間~'\n",
    "elif 201<=answer and answer<300: message = '空氣品質非常不健康，有氣喘的人應增加使用吸入劑頻率~'\n",
    "elif 301<=answer and answer<500: message = '空氣品質已達危害等級，請沒事盡量不要出門~'\n",
    "else: message = 'out of range'\n",
    "answer = str(answer)\n",
    "\n",
    "path='https://maker.ifttt.com/trigger/noticePM25/with/key/{your_key}'\n",
    "body={\n",
    "    'value1':' 松山區 ',\n",
    "    'value2':answer,\n",
    "    'value3':message\n",
    "}\n",
    "r = requests.post(path, data = body)\n",
    "print(r.text)"
   ]
  },
  {
   "cell_type": "code",
   "execution_count": 6,
   "metadata": {},
   "outputs": [
    {
     "data": {
      "image/png": "[encoded data removed]",
      "text/plain": [
       "<Figure size 432x288 with 1 Axes>"
      ]
     },
     "metadata": {
      "needs_background": "light"
     },
     "output_type": "display_data"
    }
   ],
   "source": [
    "predicted = cross_val_predict(lm, X_test, Y_test, cv=10)\n",
    "fig, ax = plt.subplots()\n",
    "ax.scatter(Y_test, predicted, edgecolors=(0, 0, 0))\n",
    "\n",
    "ax.plot([Y_test.min(), Y_test.max()], [Y_test.min(), Y_test.max()], 'r--')\n",
    "\n",
    "plt.title('K-Fold Cross Validation on Model1')\n",
    "ax.set_xlabel('Measured')\n",
    "ax.set_ylabel('Predicted')\n",
    "plt.show()\n",
    "\n"
   ]
  },
  {
   "cell_type": "code",
   "execution_count": 7,
   "metadata": {},
   "outputs": [
    {
     "data": {
      "image/png": "[encoded data removed]",
      "text/plain": [
       "<Figure size 432x288 with 1 Axes>"
      ]
     },
     "metadata": {
      "needs_background": "light"
     },
     "output_type": "display_data"
    }
   ],
   "source": [
    "predicted2 = cross_val_predict(lm2, X2_test, Y2_test, cv=10)\n",
    "fig, ax = plt.subplots()\n",
    "ax.scatter(Y2_test, predicted2, edgecolors=(0, .3, 0))\n",
    "\n",
    "ax.plot([Y2_test.min(), Y2_test.max()], [Y2_test.min(), Y2_test.max()], 'r--')\n",
    "\n",
    "plt.title('K-Fold Cross Validation on Model2')\n",
    "ax.set_xlabel('Measured')\n",
    "ax.set_ylabel('Predicted')\n",
    "plt.show()"
   ]
  },
  {
   "cell_type": "code",
   "execution_count": 9,
   "metadata": {},
   "outputs": [
    {
     "name": "stdout",
     "output_type": "stream",
     "text": [
      "[-26.71379162 -12.4015139  -25.3515253  -16.95141041 -24.96383944\n",
      " -26.49745983 -22.75309958 -21.60589266 -13.94001151 -24.24012578]\n",
      "mean mse:-21.54186700327143\n",
      "[0.85271729 0.87944734 0.83117563 0.83656947 0.4958474  0.78801908\n",
      " 0.79915394 0.79306628 0.88326503 0.85163242]\n",
      "mean r2:0.8010893886287447\n"
     ]
    }
   ],
   "source": [
    "#lm1 score\n",
    "loss = cross_val_score(lm, X, Y, cv=10, scoring='neg_mean_squared_error')\n",
    "\n",
    "print(loss)\n",
    "print('mean mse:'+str(loss.mean()))\n",
    "\n",
    "scores = cross_val_score(lm, X_train, Y_train, cv=10, scoring='r2')\n",
    "\n",
    "print(scores)\n",
    "print('mean r2:'+str(scores.mean()))"
   ]
  },
  {
   "cell_type": "code",
   "execution_count": 10,
   "metadata": {},
   "outputs": [
    {
     "name": "stdout",
     "output_type": "stream",
     "text": [
      "[-19.90431352 -31.85432236 -19.29704058 -22.12155725 -18.02283207\n",
      " -25.26631013 -25.47245394 -22.7819572  -18.13430009 -18.74802375]\n",
      "mean loss:-22.16031108830291\n",
      "[0.82163238 0.8151866  0.91533627 0.77052979 0.86005427 0.78947641\n",
      " 0.78665755 0.80214003 0.82490262 0.85717761]\n",
      "mean score:0.824309352865322\n"
     ]
    }
   ],
   "source": [
    "#lm2 score\n",
    "loss2 = cross_val_score(lm2, X2_train, Y2_train, cv=10, scoring='neg_mean_squared_error')\n",
    "\n",
    "print(loss2)\n",
    "print('mean loss:'+str(loss2.mean()))\n",
    "\n",
    "scores2 = cross_val_score(lm2, X2, Y2, cv=10, scoring='r2')\n",
    "\n",
    "print(scores2)\n",
    "print('mean score:'+str(scores2.mean()))"
   ]
  },
  {
   "cell_type": "code",
   "execution_count": 124,
   "metadata": {},
   "outputs": [
    {
     "name": "stdout",
     "output_type": "stream",
     "text": [
      "[0.85271729 0.87944734 0.83117563 0.83656947 0.4958474  0.78801908\n",
      " 0.79915394 0.79306628 0.88326503 0.85163242]\n",
      "mean score:0.8010893886287447\n"
     ]
    }
   ],
   "source": [
    "\n",
    "scores2 = cross_val_score(lm, X, Y, cv=10, scoring='r2')\n",
    "\n",
    "print(scores2)\n",
    "print('mean score:'+str(scores.mean()))"
   ]
  },
  {
   "cell_type": "code",
   "execution_count": null,
   "metadata": {},
   "outputs": [],
   "source": []
  }
 ],
 "metadata": {
  "kernelspec": {
   "display_name": "Python 3",
   "language": "python",
   "name": "python3"
  },
  "language_info": {
   "codemirror_mode": {
    "name": "ipython",
    "version": 3
   },
   "file_extension": ".py",
   "mimetype": "text/x-python",
   "name": "python",
   "nbconvert_exporter": "python",
   "pygments_lexer": "ipython3",
   "version": "3.7.1"
  }
 },
 "nbformat": 4,
 "nbformat_minor": 2
}
